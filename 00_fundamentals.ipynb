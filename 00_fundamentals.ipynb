{
 "cells": [
  {
   "cell_type": "code",
   "execution_count": 1,
   "id": "b677c10a",
   "metadata": {},
   "outputs": [
    {
     "name": "stdout",
     "output_type": "stream",
     "text": [
      "2.11.0\n"
     ]
    }
   ],
   "source": [
    "import tensorflow as tf\n",
    "print(tf.__version__)"
   ]
  },
  {
   "cell_type": "code",
   "execution_count": null,
   "id": "7f44b716",
   "metadata": {},
   "outputs": [],
   "source": [
    "scalar = tf.constant(7)\n",
    "scalar"
   ]
  },
  {
   "cell_type": "code",
   "execution_count": null,
   "id": "431864a0",
   "metadata": {},
   "outputs": [],
   "source": [
    "scalar.ndim"
   ]
  },
  {
   "cell_type": "code",
   "execution_count": null,
   "id": "abf74c0c",
   "metadata": {},
   "outputs": [],
   "source": [
    "vector = tf.constant([10,10])\n",
    "vector"
   ]
  },
  {
   "cell_type": "code",
   "execution_count": null,
   "id": "95200ff6",
   "metadata": {},
   "outputs": [],
   "source": [
    "vector.ndim"
   ]
  },
  {
   "cell_type": "code",
   "execution_count": null,
   "id": "2bbbc630",
   "metadata": {},
   "outputs": [],
   "source": [
    "matrix=tf.constant([[1,0],\n",
    "                  [0,1]])\n",
    "matrix"
   ]
  },
  {
   "cell_type": "code",
   "execution_count": null,
   "id": "93211040",
   "metadata": {},
   "outputs": [],
   "source": [
    "matrix.ndim"
   ]
  },
  {
   "cell_type": "code",
   "execution_count": null,
   "id": "022cfd6e",
   "metadata": {},
   "outputs": [],
   "source": [
    "another_matrix=tf.constant([[1.,0.],\n",
    "                           [0.,0.],\n",
    "                           [0.,1.]],dtype=tf.float16)\n",
    "another_matrix"
   ]
  },
  {
   "cell_type": "code",
   "execution_count": null,
   "id": "e3ff9f8b",
   "metadata": {},
   "outputs": [],
   "source": [
    "another_matrix.ndim"
   ]
  },
  {
   "cell_type": "code",
   "execution_count": null,
   "id": "b06b8c19",
   "metadata": {},
   "outputs": [],
   "source": [
    "tensor=tf.constant([[[1,1,1],\n",
    "                    [1,1,1]],\n",
    "                   [[1,1,1],\n",
    "                   [1,1,1]],\n",
    "                   [[1,1,1],\n",
    "                   [1,1,1]]])\n",
    "tensor"
   ]
  },
  {
   "cell_type": "code",
   "execution_count": null,
   "id": "1589ea46",
   "metadata": {},
   "outputs": [],
   "source": [
    "tensor.ndim"
   ]
  },
  {
   "cell_type": "code",
   "execution_count": null,
   "id": "66dbf99a",
   "metadata": {},
   "outputs": [],
   "source": [
    "tf.Variable"
   ]
  },
  {
   "cell_type": "code",
   "execution_count": null,
   "id": "4db69bb1",
   "metadata": {},
   "outputs": [],
   "source": [
    "changeable_tensor=tf.Variable([10,7])\n",
    "unchangebale_tensor=tf.constant([10,7])\n",
    "changeable_tensor,unchangebale_tensor"
   ]
  },
  {
   "cell_type": "code",
   "execution_count": null,
   "id": "22b13eb5",
   "metadata": {},
   "outputs": [],
   "source": [
    "changeable_tensor[0]"
   ]
  },
  {
   "cell_type": "code",
   "execution_count": null,
   "id": "3b8ac46e",
   "metadata": {},
   "outputs": [],
   "source": [
    "changeable_tensor.assign([5,3])"
   ]
  },
  {
   "cell_type": "code",
   "execution_count": null,
   "id": "edb32d37",
   "metadata": {},
   "outputs": [],
   "source": [
    "changeable_tensor[0].assign(10)"
   ]
  },
  {
   "cell_type": "code",
   "execution_count": null,
   "id": "c7a444c0",
   "metadata": {},
   "outputs": [],
   "source": [
    "changeable_tensor"
   ]
  },
  {
   "cell_type": "code",
   "execution_count": null,
   "id": "7bdb81f5",
   "metadata": {},
   "outputs": [],
   "source": [
    "random_1=tf.random.Generator.from_seed(42)\n",
    "random_1=random_1.normal(shape=(3,2))\n",
    "random_1"
   ]
  },
  {
   "cell_type": "code",
   "execution_count": null,
   "id": "32ef3795",
   "metadata": {},
   "outputs": [],
   "source": [
    "not_shffled=tf.constant([[1,0],\n",
    "                         [0,0],\n",
    "                         [0,1]]\n",
    "                    )"
   ]
  },
  {
   "cell_type": "code",
   "execution_count": null,
   "id": "1e6490f4",
   "metadata": {},
   "outputs": [],
   "source": [
    "tf.random.shuffle(not_shffled)"
   ]
  },
  {
   "cell_type": "code",
   "execution_count": null,
   "id": "b772771d",
   "metadata": {},
   "outputs": [],
   "source": [
    "tf.ones([4,2])"
   ]
  },
  {
   "cell_type": "code",
   "execution_count": null,
   "id": "6c9a83c3",
   "metadata": {},
   "outputs": [],
   "source": [
    "tf.zeros([1,1])"
   ]
  },
  {
   "cell_type": "code",
   "execution_count": 2,
   "id": "97e11afe",
   "metadata": {},
   "outputs": [],
   "source": [
    "import numpy as np"
   ]
  },
  {
   "cell_type": "code",
   "execution_count": null,
   "id": "ac5f3c8e",
   "metadata": {},
   "outputs": [],
   "source": [
    "numpy_A=np.arange(1,25,dtype=np.int8)\n",
    "numpy_A"
   ]
  },
  {
   "cell_type": "code",
   "execution_count": null,
   "id": "9a124764",
   "metadata": {},
   "outputs": [],
   "source": [
    "tensor_4_rank=tf.zeros(shape=(3,5,2,5))\n",
    "tensor_4_rank"
   ]
  },
  {
   "cell_type": "code",
   "execution_count": null,
   "id": "5f01dc8c",
   "metadata": {},
   "outputs": [],
   "source": [
    "for dim_1 in tensor_4_rank:\n",
    "    for dim_2 in dim_1:\n",
    "        for dim_3 in dim_2:\n",
    "            print(dim_3[0])\n",
    "            print(dim_3[1])"
   ]
  },
  {
   "cell_type": "code",
   "execution_count": null,
   "id": "78374217",
   "metadata": {},
   "outputs": [],
   "source": [
    "tensor_4_rank[:2,:2,:2,:2]"
   ]
  },
  {
   "cell_type": "code",
   "execution_count": null,
   "id": "725c3bb1",
   "metadata": {},
   "outputs": [],
   "source": [
    "random_random_random=tf.constant(np.random.randint(0,100,size=50))"
   ]
  },
  {
   "cell_type": "code",
   "execution_count": null,
   "id": "96a7de82",
   "metadata": {},
   "outputs": [],
   "source": [
    "tf.size(random_random_random), random_random_random.shape, random_random_random.ndim"
   ]
  },
  {
   "cell_type": "code",
   "execution_count": null,
   "id": "27a2d0d5",
   "metadata": {},
   "outputs": [],
   "source": [
    "tf.reduce_min(random_random_random)"
   ]
  },
  {
   "cell_type": "code",
   "execution_count": null,
   "id": "13e74106",
   "metadata": {},
   "outputs": [],
   "source": [
    "tf.reduce_max(random_random_random)"
   ]
  },
  {
   "cell_type": "code",
   "execution_count": null,
   "id": "633cfbde",
   "metadata": {},
   "outputs": [],
   "source": [
    "tf.reduce_mean(random_random_random)"
   ]
  },
  {
   "cell_type": "code",
   "execution_count": null,
   "id": "49918af7",
   "metadata": {},
   "outputs": [],
   "source": [
    "tf.reduce_sum(random_random_random)"
   ]
  },
  {
   "cell_type": "code",
   "execution_count": null,
   "id": "869e725b",
   "metadata": {},
   "outputs": [],
   "source": [
    "import tensorflow_probability as tfp\n",
    "tfp.stats.variance(random_random_random)"
   ]
  },
  {
   "cell_type": "code",
   "execution_count": null,
   "id": "13ff7e7a",
   "metadata": {},
   "outputs": [],
   "source": [
    "tf.math.reduce_std(tf.cast(random_random_random,dtype=tf.float16))"
   ]
  },
  {
   "cell_type": "code",
   "execution_count": 3,
   "id": "c3422239",
   "metadata": {},
   "outputs": [],
   "source": [
    "random_random_random=tf.random.uniform(shape=[100])"
   ]
  },
  {
   "cell_type": "code",
   "execution_count": 4,
   "id": "74f9329a",
   "metadata": {},
   "outputs": [
    {
     "data": {
      "text/plain": [
       "<tf.Tensor: shape=(), dtype=float32, numpy=0.9961109>"
      ]
     },
     "execution_count": 4,
     "metadata": {},
     "output_type": "execute_result"
    }
   ],
   "source": [
    "random_random_random[tf.argmax(random_random_random)]"
   ]
  },
  {
   "cell_type": "code",
   "execution_count": 7,
   "id": "74c35df5",
   "metadata": {},
   "outputs": [],
   "source": [
    "one_hot_list=[1,2,3]"
   ]
  },
  {
   "cell_type": "code",
   "execution_count": 13,
   "id": "7f0a42c3",
   "metadata": {},
   "outputs": [
    {
     "data": {
      "text/plain": [
       "<tf.Tensor: shape=(3, 3), dtype=int8, numpy=\n",
       "array([[0, 1, 0],\n",
       "       [0, 0, 1],\n",
       "       [0, 0, 0]], dtype=int8)>"
      ]
     },
     "execution_count": 13,
     "metadata": {},
     "output_type": "execute_result"
    }
   ],
   "source": [
    "tf.one_hot(one_hot_list,depth=3,dtype=tf.int8)"
   ]
  }
 ],
 "metadata": {
  "kernelspec": {
   "display_name": "Python 3",
   "language": "python",
   "name": "python3"
  },
  "language_info": {
   "codemirror_mode": {
    "name": "ipython",
    "version": 3
   },
   "file_extension": ".py",
   "mimetype": "text/x-python",
   "name": "python",
   "nbconvert_exporter": "python",
   "pygments_lexer": "ipython3",
   "version": "3.10.10"
  },
  "vscode": {
   "interpreter": {
    "hash": "74473dc1a9b2a68a2db112106901f8fa3db914843b37a8147f13924f40b075d6"
   }
  }
 },
 "nbformat": 4,
 "nbformat_minor": 5
}
