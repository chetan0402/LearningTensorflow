{
 "cells": [
  {
   "cell_type": "code",
   "execution_count": 1,
   "metadata": {},
   "outputs": [
    {
     "name": "stdout",
     "output_type": "stream",
     "text": [
      "2.11.0\n"
     ]
    }
   ],
   "source": [
    "import tensorflow as tf\n",
    "import numpy as np\n",
    "import matplotlib.pyplot as plt\n",
    "print(tf.__version__)"
   ]
  },
  {
   "cell_type": "code",
   "execution_count": 3,
   "metadata": {},
   "outputs": [
    {
     "data": {
      "text/plain": [
       "<tf.Tensor: shape=(8,), dtype=float32, numpy=array([ 2.,  4.,  6.,  8., 10., 12., 14., 16.], dtype=float32)>"
      ]
     },
     "execution_count": 3,
     "metadata": {},
     "output_type": "execute_result"
    }
   ],
   "source": [
    "X=tf.constant(np.array([2,4,6,8,10,12,14,16]),dtype=tf.float32)\n",
    "X"
   ]
  },
  {
   "cell_type": "code",
   "execution_count": 5,
   "metadata": {},
   "outputs": [
    {
     "data": {
      "text/plain": [
       "<tf.Tensor: shape=(50,), dtype=int32, numpy=\n",
       "array([ 0,  2,  4,  6,  8, 10, 12, 14, 16, 18, 20, 22, 24, 26, 28, 30, 32,\n",
       "       34, 36, 38, 40, 42, 44, 46, 48, 50, 52, 54, 56, 58, 60, 62, 64, 66,\n",
       "       68, 70, 72, 74, 76, 78, 80, 82, 84, 86, 88, 90, 92, 94, 96, 98])>"
      ]
     },
     "execution_count": 5,
     "metadata": {},
     "output_type": "execute_result"
    }
   ],
   "source": [
    "X=tf.range(0,100,2)\n",
    "X "
   ]
  },
  {
   "cell_type": "code",
   "execution_count": 6,
   "metadata": {},
   "outputs": [],
   "source": [
    "Y=X+15"
   ]
  },
  {
   "cell_type": "code",
   "execution_count": null,
   "metadata": {},
   "outputs": [],
   "source": [
    "tf.random.set_seed(42)"
   ]
  },
  {
   "cell_type": "code",
   "execution_count": null,
   "metadata": {},
   "outputs": [],
   "source": [
    "model=tf.keras.Sequential([\n",
    "    tf.keras.layers.Dense(100,activation=\"relu\"),\n",
    "    tf.keras.layers.Dense(60,activation=\"relu\"),\n",
    "    tf.keras.layers.Dense(1)\n",
    "])\n",
    "\n",
    "model.compile(loss=tf.keras.losses.mae,\n",
    "              optimizer=tf.keras.optimizers.Adam(learning_rate=0.01),\n",
    "              metrics=[\"mae\"])\n",
    "\n",
    "model.fit(tf.expand_dims(X,axis=-1),Y,epochs=100)\n",
    "\n"
   ]
  },
  {
   "cell_type": "code",
   "execution_count": 7,
   "metadata": {},
   "outputs": [],
   "source": [
    "x_train=X[:40]\n",
    "y_train=Y[:40]\n",
    "\n",
    "x_test=X[40:]\n",
    "y_test=Y[40:]"
   ]
  },
  {
   "cell_type": "code",
   "execution_count": null,
   "metadata": {},
   "outputs": [],
   "source": [
    "plt.scatter(x_train,y_train,c=\"blue\",label=\"training\")\n",
    "plt.scatter(x_test,y_test,c=\"g\",label=\"testing\")\n",
    "plt.legend()"
   ]
  },
  {
   "cell_type": "code",
   "execution_count": null,
   "metadata": {},
   "outputs": [],
   "source": [
    "model.summary()"
   ]
  },
  {
   "cell_type": "code",
   "execution_count": 52,
   "metadata": {},
   "outputs": [
    {
     "name": "stdout",
     "output_type": "stream",
     "text": [
      "Epoch 1/100\n",
      "2/2 [==============================] - 1s 4ms/step - loss: 53.4074 - mae: 53.4074\n",
      "Epoch 2/100\n",
      "2/2 [==============================] - 0s 5ms/step - loss: 46.4902 - mae: 46.4902\n",
      "Epoch 3/100\n",
      "2/2 [==============================] - 0s 7ms/step - loss: 42.1960 - mae: 42.1960\n",
      "Epoch 4/100\n",
      "2/2 [==============================] - 0s 6ms/step - loss: 36.7134 - mae: 36.7134\n",
      "Epoch 5/100\n",
      "2/2 [==============================] - 0s 4ms/step - loss: 31.1406 - mae: 31.1406\n",
      "Epoch 6/100\n",
      "2/2 [==============================] - 0s 5ms/step - loss: 24.1286 - mae: 24.1286\n",
      "Epoch 7/100\n",
      "2/2 [==============================] - 0s 7ms/step - loss: 16.4876 - mae: 16.4876\n",
      "Epoch 8/100\n",
      "2/2 [==============================] - 0s 5ms/step - loss: 7.7996 - mae: 7.7996\n",
      "Epoch 9/100\n",
      "2/2 [==============================] - 0s 5ms/step - loss: 8.5325 - mae: 8.5325\n",
      "Epoch 10/100\n",
      "2/2 [==============================] - 0s 7ms/step - loss: 12.4625 - mae: 12.4625\n",
      "Epoch 11/100\n",
      "2/2 [==============================] - 0s 7ms/step - loss: 13.3251 - mae: 13.3251\n",
      "Epoch 12/100\n",
      "2/2 [==============================] - 0s 5ms/step - loss: 11.5289 - mae: 11.5289\n",
      "Epoch 13/100\n",
      "2/2 [==============================] - 0s 5ms/step - loss: 8.3018 - mae: 8.3018\n",
      "Epoch 14/100\n",
      "2/2 [==============================] - 0s 5ms/step - loss: 6.1108 - mae: 6.1108\n",
      "Epoch 15/100\n",
      "2/2 [==============================] - 0s 6ms/step - loss: 7.2506 - mae: 7.2506\n",
      "Epoch 16/100\n",
      "2/2 [==============================] - 0s 5ms/step - loss: 8.3854 - mae: 8.3854\n",
      "Epoch 17/100\n",
      "2/2 [==============================] - 0s 5ms/step - loss: 6.9359 - mae: 6.9359\n",
      "Epoch 18/100\n",
      "2/2 [==============================] - 0s 7ms/step - loss: 5.7901 - mae: 5.7901\n",
      "Epoch 19/100\n",
      "2/2 [==============================] - 0s 6ms/step - loss: 6.3224 - mae: 6.3224\n",
      "Epoch 20/100\n",
      "2/2 [==============================] - 0s 4ms/step - loss: 6.8053 - mae: 6.8053\n",
      "Epoch 21/100\n",
      "2/2 [==============================] - 0s 5ms/step - loss: 6.5870 - mae: 6.5870\n",
      "Epoch 22/100\n",
      "2/2 [==============================] - 0s 6ms/step - loss: 5.8292 - mae: 5.8292\n",
      "Epoch 23/100\n",
      "2/2 [==============================] - 0s 6ms/step - loss: 5.7183 - mae: 5.7183\n",
      "Epoch 24/100\n",
      "2/2 [==============================] - 0s 3ms/step - loss: 6.5611 - mae: 6.5611\n",
      "Epoch 25/100\n",
      "2/2 [==============================] - 0s 7ms/step - loss: 5.9566 - mae: 5.9566\n",
      "Epoch 26/100\n",
      "2/2 [==============================] - 0s 5ms/step - loss: 5.4991 - mae: 5.4991\n",
      "Epoch 27/100\n",
      "2/2 [==============================] - 0s 3ms/step - loss: 5.6983 - mae: 5.6983\n",
      "Epoch 28/100\n",
      "2/2 [==============================] - 0s 4ms/step - loss: 5.8260 - mae: 5.8260\n",
      "Epoch 29/100\n",
      "2/2 [==============================] - 0s 5ms/step - loss: 5.6368 - mae: 5.6368\n",
      "Epoch 30/100\n",
      "2/2 [==============================] - 0s 5ms/step - loss: 5.3370 - mae: 5.3370\n",
      "Epoch 31/100\n",
      "2/2 [==============================] - 0s 5ms/step - loss: 5.4153 - mae: 5.4153\n",
      "Epoch 32/100\n",
      "2/2 [==============================] - 0s 8ms/step - loss: 5.5080 - mae: 5.5080\n",
      "Epoch 33/100\n",
      "2/2 [==============================] - 0s 6ms/step - loss: 5.2333 - mae: 5.2333\n",
      "Epoch 34/100\n",
      "2/2 [==============================] - 0s 4ms/step - loss: 5.2442 - mae: 5.2442\n",
      "Epoch 35/100\n",
      "2/2 [==============================] - 0s 3ms/step - loss: 5.4155 - mae: 5.4155\n",
      "Epoch 36/100\n",
      "2/2 [==============================] - 0s 6ms/step - loss: 5.4595 - mae: 5.4595\n",
      "Epoch 37/100\n",
      "2/2 [==============================] - 0s 6ms/step - loss: 5.1844 - mae: 5.1844\n",
      "Epoch 38/100\n",
      "2/2 [==============================] - 0s 5ms/step - loss: 5.0244 - mae: 5.0244\n",
      "Epoch 39/100\n",
      "2/2 [==============================] - 0s 5ms/step - loss: 5.3856 - mae: 5.3856\n",
      "Epoch 40/100\n",
      "2/2 [==============================] - 0s 7ms/step - loss: 5.3125 - mae: 5.3125\n",
      "Epoch 41/100\n",
      "2/2 [==============================] - 0s 4ms/step - loss: 4.9406 - mae: 4.9406\n",
      "Epoch 42/100\n",
      "2/2 [==============================] - 0s 4ms/step - loss: 4.9093 - mae: 4.9093\n",
      "Epoch 43/100\n",
      "2/2 [==============================] - 0s 6ms/step - loss: 5.0529 - mae: 5.0529\n",
      "Epoch 44/100\n",
      "2/2 [==============================] - 0s 8ms/step - loss: 5.1615 - mae: 5.1615\n",
      "Epoch 45/100\n",
      "2/2 [==============================] - 0s 4ms/step - loss: 5.0646 - mae: 5.0646\n",
      "Epoch 46/100\n",
      "2/2 [==============================] - 0s 5ms/step - loss: 4.6733 - mae: 4.6733\n",
      "Epoch 47/100\n",
      "2/2 [==============================] - 0s 8ms/step - loss: 4.9365 - mae: 4.9365\n",
      "Epoch 48/100\n",
      "2/2 [==============================] - 0s 5ms/step - loss: 5.2906 - mae: 5.2906\n",
      "Epoch 49/100\n",
      "2/2 [==============================] - 0s 4ms/step - loss: 4.6380 - mae: 4.6380\n",
      "Epoch 50/100\n",
      "2/2 [==============================] - 0s 6ms/step - loss: 4.7652 - mae: 4.7652\n",
      "Epoch 51/100\n",
      "2/2 [==============================] - 0s 4ms/step - loss: 4.6229 - mae: 4.6229\n",
      "Epoch 52/100\n",
      "2/2 [==============================] - 0s 4ms/step - loss: 4.4742 - mae: 4.4742\n",
      "Epoch 53/100\n",
      "2/2 [==============================] - 0s 6ms/step - loss: 4.8218 - mae: 4.8218\n",
      "Epoch 54/100\n",
      "2/2 [==============================] - 0s 3ms/step - loss: 4.4412 - mae: 4.4412\n",
      "Epoch 55/100\n",
      "2/2 [==============================] - 0s 6ms/step - loss: 4.3764 - mae: 4.3764\n",
      "Epoch 56/100\n",
      "2/2 [==============================] - 0s 4ms/step - loss: 4.6311 - mae: 4.6311\n",
      "Epoch 57/100\n",
      "2/2 [==============================] - 0s 4ms/step - loss: 4.4017 - mae: 4.4017\n",
      "Epoch 58/100\n",
      "2/2 [==============================] - 0s 4ms/step - loss: 4.2208 - mae: 4.2208\n",
      "Epoch 59/100\n",
      "2/2 [==============================] - 0s 5ms/step - loss: 4.2370 - mae: 4.2370\n",
      "Epoch 60/100\n",
      "2/2 [==============================] - 0s 5ms/step - loss: 4.0331 - mae: 4.0331\n",
      "Epoch 61/100\n",
      "2/2 [==============================] - 0s 11ms/step - loss: 4.2271 - mae: 4.2271\n",
      "Epoch 62/100\n",
      "2/2 [==============================] - 0s 5ms/step - loss: 4.1869 - mae: 4.1869\n",
      "Epoch 63/100\n",
      "2/2 [==============================] - 0s 6ms/step - loss: 3.9260 - mae: 3.9260\n",
      "Epoch 64/100\n",
      "2/2 [==============================] - 0s 4ms/step - loss: 3.9689 - mae: 3.9689\n",
      "Epoch 65/100\n",
      "2/2 [==============================] - 0s 4ms/step - loss: 3.9499 - mae: 3.9499\n",
      "Epoch 66/100\n",
      "2/2 [==============================] - 0s 4ms/step - loss: 3.7359 - mae: 3.7359\n",
      "Epoch 67/100\n",
      "2/2 [==============================] - 0s 6ms/step - loss: 3.9395 - mae: 3.9395\n",
      "Epoch 68/100\n",
      "2/2 [==============================] - 0s 4ms/step - loss: 3.8194 - mae: 3.8194\n",
      "Epoch 69/100\n",
      "2/2 [==============================] - 0s 5ms/step - loss: 3.5504 - mae: 3.5504\n",
      "Epoch 70/100\n",
      "2/2 [==============================] - 0s 3ms/step - loss: 3.7631 - mae: 3.7631\n",
      "Epoch 71/100\n",
      "2/2 [==============================] - 0s 5ms/step - loss: 3.5797 - mae: 3.5797\n",
      "Epoch 72/100\n",
      "2/2 [==============================] - 0s 3ms/step - loss: 3.4760 - mae: 3.4760\n",
      "Epoch 73/100\n",
      "2/2 [==============================] - 0s 4ms/step - loss: 3.5963 - mae: 3.5963\n",
      "Epoch 74/100\n",
      "2/2 [==============================] - 0s 4ms/step - loss: 3.4394 - mae: 3.4394\n",
      "Epoch 75/100\n",
      "2/2 [==============================] - 0s 6ms/step - loss: 3.2283 - mae: 3.2283\n",
      "Epoch 76/100\n",
      "2/2 [==============================] - 0s 4ms/step - loss: 3.3030 - mae: 3.3030\n",
      "Epoch 77/100\n",
      "2/2 [==============================] - 0s 6ms/step - loss: 3.0760 - mae: 3.0760\n",
      "Epoch 78/100\n",
      "2/2 [==============================] - 0s 4ms/step - loss: 3.2457 - mae: 3.2457\n",
      "Epoch 79/100\n",
      "2/2 [==============================] - 0s 4ms/step - loss: 3.3701 - mae: 3.3701\n",
      "Epoch 80/100\n",
      "2/2 [==============================] - 0s 4ms/step - loss: 3.0265 - mae: 3.0265\n",
      "Epoch 81/100\n",
      "2/2 [==============================] - 0s 5ms/step - loss: 2.8707 - mae: 2.8707\n",
      "Epoch 82/100\n",
      "2/2 [==============================] - 0s 6ms/step - loss: 2.8695 - mae: 2.8695\n",
      "Epoch 83/100\n",
      "2/2 [==============================] - 0s 3ms/step - loss: 2.7010 - mae: 2.7010\n",
      "Epoch 84/100\n",
      "2/2 [==============================] - 0s 5ms/step - loss: 2.6133 - mae: 2.6133\n",
      "Epoch 85/100\n",
      "2/2 [==============================] - 0s 6ms/step - loss: 2.6202 - mae: 2.6202\n",
      "Epoch 86/100\n",
      "2/2 [==============================] - 0s 3ms/step - loss: 2.4648 - mae: 2.4648\n",
      "Epoch 87/100\n",
      "2/2 [==============================] - 0s 6ms/step - loss: 2.4256 - mae: 2.4256\n",
      "Epoch 88/100\n",
      "2/2 [==============================] - 0s 4ms/step - loss: 2.3043 - mae: 2.3043\n",
      "Epoch 89/100\n",
      "2/2 [==============================] - 0s 4ms/step - loss: 2.2075 - mae: 2.2075\n",
      "Epoch 90/100\n",
      "2/2 [==============================] - 0s 6ms/step - loss: 2.0856 - mae: 2.0856\n",
      "Epoch 91/100\n",
      "2/2 [==============================] - 0s 4ms/step - loss: 2.1318 - mae: 2.1318\n",
      "Epoch 92/100\n",
      "2/2 [==============================] - 0s 5ms/step - loss: 1.9550 - mae: 1.9550\n",
      "Epoch 93/100\n",
      "2/2 [==============================] - 0s 4ms/step - loss: 2.1434 - mae: 2.1434\n",
      "Epoch 94/100\n",
      "2/2 [==============================] - 0s 4ms/step - loss: 1.7779 - mae: 1.7779\n",
      "Epoch 95/100\n",
      "2/2 [==============================] - 0s 5ms/step - loss: 2.0533 - mae: 2.0533\n",
      "Epoch 96/100\n",
      "2/2 [==============================] - 0s 4ms/step - loss: 1.7874 - mae: 1.7874\n",
      "Epoch 97/100\n",
      "2/2 [==============================] - 0s 3ms/step - loss: 1.5734 - mae: 1.5734\n",
      "Epoch 98/100\n",
      "2/2 [==============================] - 0s 6ms/step - loss: 1.6942 - mae: 1.6942\n",
      "Epoch 99/100\n",
      "2/2 [==============================] - 0s 3ms/step - loss: 1.8626 - mae: 1.8626\n",
      "Epoch 100/100\n",
      "2/2 [==============================] - 0s 5ms/step - loss: 1.5844 - mae: 1.5844\n"
     ]
    },
    {
     "data": {
      "text/plain": [
       "<keras.callbacks.History at 0x288a587a2c0>"
      ]
     },
     "execution_count": 52,
     "metadata": {},
     "output_type": "execute_result"
    }
   ],
   "source": [
    "model_new=tf.keras.Sequential([\n",
    "    tf.keras.layers.Dense(100,activation=\"relu\"),\n",
    "    tf.keras.layers.Dense(10,activation=\"relu\"),\n",
    "    tf.keras.layers.Dense(1)\n",
    "])\n",
    "\n",
    "model_new.compile(loss=tf.keras.losses.mae,\n",
    "              optimizer=tf.keras.optimizers.Adam(learning_rate=0.01),\n",
    "              metrics=[\"mae\"])\n",
    "\n",
    "model_new.fit(tf.expand_dims(x_train,axis=-1),y_train,epochs=100)\n",
    "\n"
   ]
  },
  {
   "cell_type": "code",
   "execution_count": 22,
   "metadata": {},
   "outputs": [
    {
     "name": "stdout",
     "output_type": "stream",
     "text": [
      "1/1 [==============================] - 0s 58ms/step\n"
     ]
    }
   ],
   "source": [
    "y_preds=model_new.predict(x_test)"
   ]
  },
  {
   "cell_type": "code",
   "execution_count": 53,
   "metadata": {},
   "outputs": [
    {
     "name": "stdout",
     "output_type": "stream",
     "text": [
      "1/1 [==============================] - 0s 112ms/step - loss: 0.6300 - mae: 0.6300\n"
     ]
    },
    {
     "data": {
      "text/plain": [
       "[0.6300300359725952, 0.6300300359725952]"
      ]
     },
     "execution_count": 53,
     "metadata": {},
     "output_type": "execute_result"
    }
   ],
   "source": [
    "model_new.evaluate(x_test,y_test)"
   ]
  },
  {
   "cell_type": "code",
   "execution_count": 54,
   "metadata": {},
   "outputs": [
    {
     "name": "stdout",
     "output_type": "stream",
     "text": [
      "1/1 [==============================] - 0s 58ms/step\n",
      "1/1 [==============================] - 0s 40ms/step - loss: 0.6300 - mae: 0.6300\n"
     ]
    },
    {
     "data": {
      "text/plain": [
       "<matplotlib.legend.Legend at 0x288a58670d0>"
      ]
     },
     "execution_count": 54,
     "metadata": {},
     "output_type": "execute_result"
    },
    {
     "data": {
      "image/png": "[encoded data removed]",
      "text/plain": [
       "<Figure size 640x480 with 1 Axes>"
      ]
     },
     "metadata": {},
     "output_type": "display_data"
    }
   ],
   "source": [
    "y_preds=model_new.predict(x_test)\n",
    "model_new.evaluate(x_test,y_test)\n",
    "plt.scatter(x_test,y_test,c=\"g\",label=\"testing\")\n",
    "plt.scatter(x_test,y_preds,c=\"red\",label=\"predictions\")\n",
    "plt.grid()\n",
    "plt.legend()"
   ]
  },
  {
   "cell_type": "code",
   "execution_count": 16,
   "metadata": {},
   "outputs": [],
   "source": [
    "model_new.save(\"the_new_model.h5\")"
   ]
  },
  {
   "cell_type": "code",
   "execution_count": 2,
   "metadata": {},
   "outputs": [],
   "source": [
    "model_already=tf.keras.models.load_model(\"the_new_model.h5\")"
   ]
  },
  {
   "cell_type": "code",
   "execution_count": 10,
   "metadata": {},
   "outputs": [
    {
     "name": "stdout",
     "output_type": "stream",
     "text": [
      "1/1 [==============================] - 0s 26ms/step - loss: 0.1222 - mae: 0.1222\n"
     ]
    },
    {
     "data": {
      "text/plain": [
       "0.12219543755054474"
      ]
     },
     "execution_count": 10,
     "metadata": {},
     "output_type": "execute_result"
    }
   ],
   "source": [
    "model_already.evaluate(x_test,y_test)[0]"
   ]
  },
  {
   "cell_type": "code",
   "execution_count": 62,
   "metadata": {},
   "outputs": [
    {
     "name": "stdout",
     "output_type": "stream",
     "text": [
      "1/1 [==============================] - 0s 52ms/step\n"
     ]
    },
    {
     "data": {
      "text/plain": [
       "array([[114.88593]], dtype=float32)"
      ]
     },
     "execution_count": 62,
     "metadata": {},
     "output_type": "execute_result"
    }
   ],
   "source": [
    "model_already.predict([100])"
   ]
  }
 ],
 "metadata": {
  "kernelspec": {
   "display_name": "Python 3",
   "language": "python",
   "name": "python3"
  },
  "language_info": {
   "codemirror_mode": {
    "name": "ipython",
    "version": 3
   },
   "file_extension": ".py",
   "mimetype": "text/x-python",
   "name": "python",
   "nbconvert_exporter": "python",
   "pygments_lexer": "ipython3",
   "version": "3.10.10"
  },
  "orig_nbformat": 4
 },
 "nbformat": 4,
 "nbformat_minor": 2
}
